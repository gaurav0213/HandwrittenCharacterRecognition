{
 "cells": [
  {
   "cell_type": "code",
   "execution_count": null,
   "metadata": {
    "executionInfo": {
     "elapsed": 4691,
     "status": "ok",
     "timestamp": 1636942207272,
     "user": {
      "displayName": "Sineth Bandara",
      "photoUrl": "https://lh3.googleusercontent.com/a-/AOh14GhKdq8bhCUpgQ-7MzvdaGUCoDrG8IEInhYwzCJC=s64",
      "userId": "02739801178643177334"
     },
     "user_tz": -330
    },
    "id": "AzE3LRw5S4Pt"
   },
   "outputs": [],
   "source": [
    "import numpy as np\n",
    "import visualkeras as vk \n",
    "import pandas as pd\n",
    "import seaborn as sn\n",
    "from keras.models import Sequential\n",
    "from matplotlib import pyplot as plt\n",
    "from keras.callbacks import ModelCheckpoint\n",
    "from sklearn.metrics import confusion_matrix\n",
    "from keras.preprocessing.image import ImageDataGenerator\n",
    "from keras.layers import Conv2D, Activation, MaxPooling2D, Flatten, Dense, Dropout, BatchNormalization"
   ]
  },
  {
   "cell_type": "code",
   "execution_count": null,
   "metadata": {
    "executionInfo": {
     "elapsed": 16308,
     "status": "ok",
     "timestamp": 1636942223576,
     "user": {
      "displayName": "Sineth Bandara",
      "photoUrl": "https://lh3.googleusercontent.com/a-/AOh14GhKdq8bhCUpgQ-7MzvdaGUCoDrG8IEInhYwzCJC=s64",
      "userId": "02739801178643177334"
     },
     "user_tz": -330
    },
    "id": "0uzUNs1LTWe-"
   },
   "outputs": [],
   "source": [
    "train_data = np.load(\"../numpy/train_data.npy\")\n",
    "test_data = np.load(\"../numpy/test_data.npy\")\n",
    "train_labels = np.load(\"../numpy/train_labels.npy\")\n",
    "test_labels = np.load(\"../numpy/test_labels.npy\")"
   ]
  },
  {
   "cell_type": "code",
   "execution_count": null,
   "metadata": {
    "colab": {
     "base_uri": "https://localhost:8080/"
    },
    "executionInfo": {
     "elapsed": 27,
     "status": "ok",
     "timestamp": 1636942223580,
     "user": {
      "displayName": "Sineth Bandara",
      "photoUrl": "https://lh3.googleusercontent.com/a-/AOh14GhKdq8bhCUpgQ-7MzvdaGUCoDrG8IEInhYwzCJC=s64",
      "userId": "02739801178643177334"
     },
     "user_tz": -330
    },
    "id": "ZO4XD8H-TjdL",
    "outputId": "b1f400cb-ffc3-45e1-ecce-76f7fb8c9272"
   },
   "outputs": [],
   "source": [
    "model = Sequential()\n",
    "\n",
    "model.add(Conv2D(32, (5, 5), input_shape=(28, 28, 1), activation=\"relu\"))\n",
    "model.add(BatchNormalization())\n",
    "\n",
    "model.add(Conv2D(32, (5, 5), activation=\"relu\"))\n",
    "model.add(BatchNormalization())\n",
    "model.add(MaxPooling2D(2, 2))\n",
    "model.add(Dropout(0.25))\n",
    "\n",
    "model.add(BatchNormalization())\n",
    "model.add(Flatten())\n",
    "\n",
    "model.add(Dense(256, activation=\"relu\"))\n",
    "model.add(Dense(36, activation=\"softmax\"))\n",
    "\n",
    "model.compile(loss=\"categorical_crossentropy\", optimizer=\"adam\", metrics=[\"accuracy\"])\n",
    "model.summary()"
   ]
  },
  {
   "cell_type": "code",
   "execution_count": null,
   "metadata": {
    "colab": {
     "base_uri": "https://localhost:8080/",
     "height": 145
    },
    "executionInfo": {
     "elapsed": 7,
     "status": "ok",
     "timestamp": 1636050237338,
     "user": {
      "displayName": "Sineth Bandara",
      "photoUrl": "https://lh3.googleusercontent.com/a-/AOh14GhKdq8bhCUpgQ-7MzvdaGUCoDrG8IEInhYwzCJC=s64",
      "userId": "02739801178643177334"
     },
     "user_tz": -330
    },
    "id": "BBg4Gi16MKU0",
    "outputId": "396e12a1-1107-4fdd-f7f5-ee7fb7af5e40"
   },
   "outputs": [],
   "source": [
    "vk.layered_view(model)"
   ]
  },
  {
   "cell_type": "code",
   "execution_count": null,
   "metadata": {
    "id": "mykaSAmzbVmA"
   },
   "outputs": [],
   "source": [
    "best_loss_checkpoint = ModelCheckpoint(\n",
    "    filepath=\"../models/best_loss_model.h5\",\n",
    "    monitor=\"loss\",\n",
    "    save_best_only=True,\n",
    "    save_weights_only=True,\n",
    "    mode=\"min\"\n",
    ")\n",
    "\n",
    "best_val_loss_checkpoint = ModelCheckpoint(\n",
    "    filepath=\"../models/best_val_loss_model.h5\",\n",
    "    monitor=\"val_loss\",\n",
    "    save_best_only=True,\n",
    "    save_weights_only=True,\n",
    "    mode=\"min\"\n",
    ")"
   ]
  },
  {
   "cell_type": "code",
   "execution_count": null,
   "metadata": {
    "colab": {
     "base_uri": "https://localhost:8080/"
    },
    "executionInfo": {
     "elapsed": 564,
     "status": "ok",
     "timestamp": 1636942472565,
     "user": {
      "displayName": "Sineth Bandara",
      "photoUrl": "https://lh3.googleusercontent.com/a-/AOh14GhKdq8bhCUpgQ-7MzvdaGUCoDrG8IEInhYwzCJC=s64",
      "userId": "02739801178643177334"
     },
     "user_tz": -330
    },
    "id": "NizxBQMQkqyJ",
    "outputId": "be056dce-0367-45da-f720-901c73985daf"
   },
   "outputs": [],
   "source": [
    "history = model.fit(\n",
    "    train_data,\n",
    "    train_labels,\n",
    "    validation_data=(test_data, test_labels), \n",
    "    epochs=10, \n",
    "    batch_size=200, \n",
    "    callbacks=[best_loss_checkpoint, best_val_loss_checkpoint]\n",
    ")"
   ]
  },
  {
   "cell_type": "code",
   "execution_count": null,
   "metadata": {
    "colab": {
     "base_uri": "https://localhost:8080/",
     "height": 295
    },
    "executionInfo": {
     "elapsed": 555,
     "status": "ok",
     "timestamp": 1636051105513,
     "user": {
      "displayName": "Sineth Bandara",
      "photoUrl": "https://lh3.googleusercontent.com/a-/AOh14GhKdq8bhCUpgQ-7MzvdaGUCoDrG8IEInhYwzCJC=s64",
      "userId": "02739801178643177334"
     },
     "user_tz": -330
    },
    "id": "0SjA1Y_ZOXIe",
    "outputId": "6852123a-b17a-4b51-9c10-2459cb3aa647"
   },
   "outputs": [],
   "source": [
    "plt.plot(history.history[\"loss\"], 'b', label=\"loss\")\n",
    "plt.plot(history.history[\"val_loss\"], 'r', label=\"val_loss\")\n",
    "plt.xlabel(\"epoch\")\n",
    "plt.ylabel(\"frequency\")\n",
    "plt.legend()\n",
    "plt.show()"
   ]
  },
  {
   "cell_type": "code",
   "execution_count": null,
   "metadata": {
    "colab": {
     "base_uri": "https://localhost:8080/",
     "height": 295
    },
    "executionInfo": {
     "elapsed": 667,
     "status": "ok",
     "timestamp": 1636051129888,
     "user": {
      "displayName": "Sineth Bandara",
      "photoUrl": "https://lh3.googleusercontent.com/a-/AOh14GhKdq8bhCUpgQ-7MzvdaGUCoDrG8IEInhYwzCJC=s64",
      "userId": "02739801178643177334"
     },
     "user_tz": -330
    },
    "id": "_y-CbwBYPsmi",
    "outputId": "2a58b4b6-28b1-4f21-994b-aeb8d580f7f5"
   },
   "outputs": [],
   "source": [
    "plt.plot(history.history[\"acc\"], 'b', label=\"acc\")\n",
    "plt.plot(history.history[\"val_acc\"], 'r', label=\"val_acc\")\n",
    "plt.xlabel(\"epoch\")\n",
    "plt.ylabel(\"frequency\")\n",
    "plt.legend()\n",
    "plt.show()"
   ]
  },
  {
   "cell_type": "code",
   "execution_count": null,
   "metadata": {
    "executionInfo": {
     "elapsed": 34,
     "status": "ok",
     "timestamp": 1636942227199,
     "user": {
      "displayName": "Sineth Bandara",
      "photoUrl": "https://lh3.googleusercontent.com/a-/AOh14GhKdq8bhCUpgQ-7MzvdaGUCoDrG8IEInhYwzCJC=s64",
      "userId": "02739801178643177334"
     },
     "user_tz": -330
    },
    "id": "tBg5K1eCisZ9"
   },
   "outputs": [],
   "source": [
    "model.load_weights(\"../models/best_val_loss_model.h5\")"
   ]
  },
  {
   "cell_type": "code",
   "execution_count": null,
   "metadata": {
    "colab": {
     "base_uri": "https://localhost:8080/"
    },
    "executionInfo": {
     "elapsed": 66621,
     "status": "ok",
     "timestamp": 1636942299402,
     "user": {
      "displayName": "Sineth Bandara",
      "photoUrl": "https://lh3.googleusercontent.com/a-/AOh14GhKdq8bhCUpgQ-7MzvdaGUCoDrG8IEInhYwzCJC=s64",
      "userId": "02739801178643177334"
     },
     "user_tz": -330
    },
    "id": "_aXH_nboRCb-",
    "outputId": "d00d627b-b149-49f1-f729-54e15e63c72b"
   },
   "outputs": [],
   "source": [
    "loss, acc = model.evaluate(test_data, test_labels)\n",
    "print(loss, acc)"
   ]
  },
  {
   "cell_type": "code",
   "execution_count": null,
   "metadata": {
    "executionInfo": {
     "elapsed": 59790,
     "status": "ok",
     "timestamp": 1636942396061,
     "user": {
      "displayName": "Sineth Bandara",
      "photoUrl": "https://lh3.googleusercontent.com/a-/AOh14GhKdq8bhCUpgQ-7MzvdaGUCoDrG8IEInhYwzCJC=s64",
      "userId": "02739801178643177334"
     },
     "user_tz": -330
    },
    "id": "m9UNtghKXaPm"
   },
   "outputs": [],
   "source": [
    "predictions = model.predict(test_data)"
   ]
  },
  {
   "cell_type": "code",
   "execution_count": null,
   "metadata": {
    "colab": {
     "base_uri": "https://localhost:8080/"
    },
    "executionInfo": {
     "elapsed": 497,
     "status": "ok",
     "timestamp": 1636942401789,
     "user": {
      "displayName": "Sineth Bandara",
      "photoUrl": "https://lh3.googleusercontent.com/a-/AOh14GhKdq8bhCUpgQ-7MzvdaGUCoDrG8IEInhYwzCJC=s64",
      "userId": "02739801178643177334"
     },
     "user_tz": -330
    },
    "id": "WN8LMT4rjG4e",
    "outputId": "8a5219fa-b698-496b-e6e9-bf80d557d941"
   },
   "outputs": [],
   "source": [
    "confusion = confusion_matrix(\n",
    "    np.argmax(test_labels, axis=1),\n",
    "    np.argmax(predictions, axis=1)\n",
    ")\n",
    "print(confusion)"
   ]
  },
  {
   "cell_type": "code",
   "execution_count": null,
   "metadata": {
    "colab": {
     "base_uri": "https://localhost:8080/",
     "height": 910
    },
    "executionInfo": {
     "elapsed": 6298,
     "status": "ok",
     "timestamp": 1636942416613,
     "user": {
      "displayName": "Sineth Bandara",
      "photoUrl": "https://lh3.googleusercontent.com/a-/AOh14GhKdq8bhCUpgQ-7MzvdaGUCoDrG8IEInhYwzCJC=s64",
      "userId": "02739801178643177334"
     },
     "user_tz": -330
    },
    "id": "TWp23jdFVa5U",
    "outputId": "a87c19e7-8f18-4ba1-b001-ba684ff47d63"
   },
   "outputs": [],
   "source": [
    "labels = ['A', 'B', 'C', 'D', 'E', 'F', 'G', 'H', 'I', 'J', 'K', 'L', 'M', 'N', 'O', 'P', 'Q', 'R', 'S', 'T', 'U', 'V', 'W', 'X', 'Y', 'Z', '0', '1', '2', '3', '4', '5', '6', '7', '8', '9']\n",
    "\n",
    "df_cm = pd.DataFrame(confusion, columns=np.unique(labels), index = np.unique(labels))\n",
    "df_cm.index.name = 'actual'\n",
    "df_cm.columns.name = 'predicted'\n",
    "plt.figure(figsize = (20,15))\n",
    "sn.set(font_scale=1.4) \n",
    "sn.heatmap(df_cm, cmap=\"Blues\", annot=True, annot_kws={\"size\": 15}, fmt=\"d\")"
   ]
  },
  {
   "cell_type": "code",
   "execution_count": null,
   "metadata": {
    "id": "IvaEbwGUifFE"
   },
   "outputs": [],
   "source": []
  }
 ],
 "metadata": {
  "colab": {
   "authorship_tag": "ABX9TyNZsHenJlD3G39gEpUDcN/e",
   "collapsed_sections": [],
   "mount_file_id": "1DEOWed-HBHqrgrvunKtx5w4ISOZRtuXo",
   "name": "CNN Architecture.ipynb",
   "provenance": []
  },
  "kernelspec": {
   "display_name": "Python 3.10.6 64-bit",
   "language": "python",
   "name": "python3"
  },
  "language_info": {
   "codemirror_mode": {
    "name": "ipython",
    "version": 3
   },
   "file_extension": ".py",
   "mimetype": "text/x-python",
   "name": "python",
   "nbconvert_exporter": "python",
   "pygments_lexer": "ipython3",
   "version": "3.10.6"
  },
  "vscode": {
   "interpreter": {
    "hash": "8e63604ad8de0d44954dc01040b55c72134c2fe061cdc777356dd40b7f579a91"
   }
  }
 },
 "nbformat": 4,
 "nbformat_minor": 1
}
